{
 "cells": [
  {
   "cell_type": "code",
   "execution_count": 1,
   "metadata": {},
   "outputs": [],
   "source": [
    "import pandas as pd\n",
    "import seaborn as sns\n",
    "import numpy as np \n",
    "import matplotlib.pyplot as plt\n",
    "from sklearn.linear_model import LinearRegression\n",
    "from sklearn.preprocessing import PolynomialFeatures\n",
    "from sklearn.model_selection import train_test_split, cross_val_score, cross_val_predict\n",
    "from sklearn.metrics import mean_squared_error,r2_score #for testing "
   ]
  },
  {
   "cell_type": "code",
   "execution_count": 2,
   "metadata": {},
   "outputs": [],
   "source": [
    "hit=pd.read_csv(\"hitters.csv\")"
   ]
  },
  {
   "cell_type": "code",
   "execution_count": 3,
   "metadata": {},
   "outputs": [
    {
     "data": {
      "text/html": [
       "<div>\n",
       "<style scoped>\n",
       "    .dataframe tbody tr th:only-of-type {\n",
       "        vertical-align: middle;\n",
       "    }\n",
       "\n",
       "    .dataframe tbody tr th {\n",
       "        vertical-align: top;\n",
       "    }\n",
       "\n",
       "    .dataframe thead th {\n",
       "        text-align: right;\n",
       "    }\n",
       "</style>\n",
       "<table border=\"1\" class=\"dataframe\">\n",
       "  <thead>\n",
       "    <tr style=\"text-align: right;\">\n",
       "      <th></th>\n",
       "      <th>AtBat</th>\n",
       "      <th>Hits</th>\n",
       "      <th>HmRun</th>\n",
       "      <th>Runs</th>\n",
       "      <th>RBI</th>\n",
       "      <th>Walks</th>\n",
       "      <th>Years</th>\n",
       "      <th>CAtBat</th>\n",
       "      <th>CHits</th>\n",
       "      <th>CHmRun</th>\n",
       "      <th>CRuns</th>\n",
       "      <th>CRBI</th>\n",
       "      <th>CWalks</th>\n",
       "      <th>League</th>\n",
       "      <th>Division</th>\n",
       "      <th>PutOuts</th>\n",
       "      <th>Assists</th>\n",
       "      <th>Errors</th>\n",
       "      <th>Salary</th>\n",
       "      <th>NewLeague</th>\n",
       "    </tr>\n",
       "  </thead>\n",
       "  <tbody>\n",
       "    <tr>\n",
       "      <td>0</td>\n",
       "      <td>293</td>\n",
       "      <td>66</td>\n",
       "      <td>1</td>\n",
       "      <td>30</td>\n",
       "      <td>29</td>\n",
       "      <td>14</td>\n",
       "      <td>1</td>\n",
       "      <td>293</td>\n",
       "      <td>66</td>\n",
       "      <td>1</td>\n",
       "      <td>30</td>\n",
       "      <td>29</td>\n",
       "      <td>14</td>\n",
       "      <td>A</td>\n",
       "      <td>E</td>\n",
       "      <td>446</td>\n",
       "      <td>33</td>\n",
       "      <td>20</td>\n",
       "      <td>NaN</td>\n",
       "      <td>A</td>\n",
       "    </tr>\n",
       "    <tr>\n",
       "      <td>1</td>\n",
       "      <td>315</td>\n",
       "      <td>81</td>\n",
       "      <td>7</td>\n",
       "      <td>24</td>\n",
       "      <td>38</td>\n",
       "      <td>39</td>\n",
       "      <td>14</td>\n",
       "      <td>3449</td>\n",
       "      <td>835</td>\n",
       "      <td>69</td>\n",
       "      <td>321</td>\n",
       "      <td>414</td>\n",
       "      <td>375</td>\n",
       "      <td>N</td>\n",
       "      <td>W</td>\n",
       "      <td>632</td>\n",
       "      <td>43</td>\n",
       "      <td>10</td>\n",
       "      <td>475.0</td>\n",
       "      <td>N</td>\n",
       "    </tr>\n",
       "    <tr>\n",
       "      <td>2</td>\n",
       "      <td>479</td>\n",
       "      <td>130</td>\n",
       "      <td>18</td>\n",
       "      <td>66</td>\n",
       "      <td>72</td>\n",
       "      <td>76</td>\n",
       "      <td>3</td>\n",
       "      <td>1624</td>\n",
       "      <td>457</td>\n",
       "      <td>63</td>\n",
       "      <td>224</td>\n",
       "      <td>266</td>\n",
       "      <td>263</td>\n",
       "      <td>A</td>\n",
       "      <td>W</td>\n",
       "      <td>880</td>\n",
       "      <td>82</td>\n",
       "      <td>14</td>\n",
       "      <td>480.0</td>\n",
       "      <td>A</td>\n",
       "    </tr>\n",
       "    <tr>\n",
       "      <td>3</td>\n",
       "      <td>496</td>\n",
       "      <td>141</td>\n",
       "      <td>20</td>\n",
       "      <td>65</td>\n",
       "      <td>78</td>\n",
       "      <td>37</td>\n",
       "      <td>11</td>\n",
       "      <td>5628</td>\n",
       "      <td>1575</td>\n",
       "      <td>225</td>\n",
       "      <td>828</td>\n",
       "      <td>838</td>\n",
       "      <td>354</td>\n",
       "      <td>N</td>\n",
       "      <td>E</td>\n",
       "      <td>200</td>\n",
       "      <td>11</td>\n",
       "      <td>3</td>\n",
       "      <td>500.0</td>\n",
       "      <td>N</td>\n",
       "    </tr>\n",
       "    <tr>\n",
       "      <td>4</td>\n",
       "      <td>321</td>\n",
       "      <td>87</td>\n",
       "      <td>10</td>\n",
       "      <td>39</td>\n",
       "      <td>42</td>\n",
       "      <td>30</td>\n",
       "      <td>2</td>\n",
       "      <td>396</td>\n",
       "      <td>101</td>\n",
       "      <td>12</td>\n",
       "      <td>48</td>\n",
       "      <td>46</td>\n",
       "      <td>33</td>\n",
       "      <td>N</td>\n",
       "      <td>E</td>\n",
       "      <td>805</td>\n",
       "      <td>40</td>\n",
       "      <td>4</td>\n",
       "      <td>91.5</td>\n",
       "      <td>N</td>\n",
       "    </tr>\n",
       "    <tr>\n",
       "      <td>...</td>\n",
       "      <td>...</td>\n",
       "      <td>...</td>\n",
       "      <td>...</td>\n",
       "      <td>...</td>\n",
       "      <td>...</td>\n",
       "      <td>...</td>\n",
       "      <td>...</td>\n",
       "      <td>...</td>\n",
       "      <td>...</td>\n",
       "      <td>...</td>\n",
       "      <td>...</td>\n",
       "      <td>...</td>\n",
       "      <td>...</td>\n",
       "      <td>...</td>\n",
       "      <td>...</td>\n",
       "      <td>...</td>\n",
       "      <td>...</td>\n",
       "      <td>...</td>\n",
       "      <td>...</td>\n",
       "      <td>...</td>\n",
       "    </tr>\n",
       "    <tr>\n",
       "      <td>317</td>\n",
       "      <td>497</td>\n",
       "      <td>127</td>\n",
       "      <td>7</td>\n",
       "      <td>65</td>\n",
       "      <td>48</td>\n",
       "      <td>37</td>\n",
       "      <td>5</td>\n",
       "      <td>2703</td>\n",
       "      <td>806</td>\n",
       "      <td>32</td>\n",
       "      <td>379</td>\n",
       "      <td>311</td>\n",
       "      <td>138</td>\n",
       "      <td>N</td>\n",
       "      <td>E</td>\n",
       "      <td>325</td>\n",
       "      <td>9</td>\n",
       "      <td>3</td>\n",
       "      <td>700.0</td>\n",
       "      <td>N</td>\n",
       "    </tr>\n",
       "    <tr>\n",
       "      <td>318</td>\n",
       "      <td>492</td>\n",
       "      <td>136</td>\n",
       "      <td>5</td>\n",
       "      <td>76</td>\n",
       "      <td>50</td>\n",
       "      <td>94</td>\n",
       "      <td>12</td>\n",
       "      <td>5511</td>\n",
       "      <td>1511</td>\n",
       "      <td>39</td>\n",
       "      <td>897</td>\n",
       "      <td>451</td>\n",
       "      <td>875</td>\n",
       "      <td>A</td>\n",
       "      <td>E</td>\n",
       "      <td>313</td>\n",
       "      <td>381</td>\n",
       "      <td>20</td>\n",
       "      <td>875.0</td>\n",
       "      <td>A</td>\n",
       "    </tr>\n",
       "    <tr>\n",
       "      <td>319</td>\n",
       "      <td>475</td>\n",
       "      <td>126</td>\n",
       "      <td>3</td>\n",
       "      <td>61</td>\n",
       "      <td>43</td>\n",
       "      <td>52</td>\n",
       "      <td>6</td>\n",
       "      <td>1700</td>\n",
       "      <td>433</td>\n",
       "      <td>7</td>\n",
       "      <td>217</td>\n",
       "      <td>93</td>\n",
       "      <td>146</td>\n",
       "      <td>A</td>\n",
       "      <td>W</td>\n",
       "      <td>37</td>\n",
       "      <td>113</td>\n",
       "      <td>7</td>\n",
       "      <td>385.0</td>\n",
       "      <td>A</td>\n",
       "    </tr>\n",
       "    <tr>\n",
       "      <td>320</td>\n",
       "      <td>573</td>\n",
       "      <td>144</td>\n",
       "      <td>9</td>\n",
       "      <td>85</td>\n",
       "      <td>60</td>\n",
       "      <td>78</td>\n",
       "      <td>8</td>\n",
       "      <td>3198</td>\n",
       "      <td>857</td>\n",
       "      <td>97</td>\n",
       "      <td>470</td>\n",
       "      <td>420</td>\n",
       "      <td>332</td>\n",
       "      <td>A</td>\n",
       "      <td>E</td>\n",
       "      <td>1314</td>\n",
       "      <td>131</td>\n",
       "      <td>12</td>\n",
       "      <td>960.0</td>\n",
       "      <td>A</td>\n",
       "    </tr>\n",
       "    <tr>\n",
       "      <td>321</td>\n",
       "      <td>631</td>\n",
       "      <td>170</td>\n",
       "      <td>9</td>\n",
       "      <td>77</td>\n",
       "      <td>44</td>\n",
       "      <td>31</td>\n",
       "      <td>11</td>\n",
       "      <td>4908</td>\n",
       "      <td>1457</td>\n",
       "      <td>30</td>\n",
       "      <td>775</td>\n",
       "      <td>357</td>\n",
       "      <td>249</td>\n",
       "      <td>A</td>\n",
       "      <td>W</td>\n",
       "      <td>408</td>\n",
       "      <td>4</td>\n",
       "      <td>3</td>\n",
       "      <td>1000.0</td>\n",
       "      <td>A</td>\n",
       "    </tr>\n",
       "  </tbody>\n",
       "</table>\n",
       "<p>322 rows × 20 columns</p>\n",
       "</div>"
      ],
      "text/plain": [
       "     AtBat  Hits  HmRun  Runs  RBI  Walks  Years  CAtBat  CHits  CHmRun  \\\n",
       "0      293    66      1    30   29     14      1     293     66       1   \n",
       "1      315    81      7    24   38     39     14    3449    835      69   \n",
       "2      479   130     18    66   72     76      3    1624    457      63   \n",
       "3      496   141     20    65   78     37     11    5628   1575     225   \n",
       "4      321    87     10    39   42     30      2     396    101      12   \n",
       "..     ...   ...    ...   ...  ...    ...    ...     ...    ...     ...   \n",
       "317    497   127      7    65   48     37      5    2703    806      32   \n",
       "318    492   136      5    76   50     94     12    5511   1511      39   \n",
       "319    475   126      3    61   43     52      6    1700    433       7   \n",
       "320    573   144      9    85   60     78      8    3198    857      97   \n",
       "321    631   170      9    77   44     31     11    4908   1457      30   \n",
       "\n",
       "     CRuns  CRBI  CWalks League Division  PutOuts  Assists  Errors  Salary  \\\n",
       "0       30    29      14      A        E      446       33      20     NaN   \n",
       "1      321   414     375      N        W      632       43      10   475.0   \n",
       "2      224   266     263      A        W      880       82      14   480.0   \n",
       "3      828   838     354      N        E      200       11       3   500.0   \n",
       "4       48    46      33      N        E      805       40       4    91.5   \n",
       "..     ...   ...     ...    ...      ...      ...      ...     ...     ...   \n",
       "317    379   311     138      N        E      325        9       3   700.0   \n",
       "318    897   451     875      A        E      313      381      20   875.0   \n",
       "319    217    93     146      A        W       37      113       7   385.0   \n",
       "320    470   420     332      A        E     1314      131      12   960.0   \n",
       "321    775   357     249      A        W      408        4       3  1000.0   \n",
       "\n",
       "    NewLeague  \n",
       "0           A  \n",
       "1           N  \n",
       "2           A  \n",
       "3           N  \n",
       "4           N  \n",
       "..        ...  \n",
       "317         N  \n",
       "318         A  \n",
       "319         A  \n",
       "320         A  \n",
       "321         A  \n",
       "\n",
       "[322 rows x 20 columns]"
      ]
     },
     "execution_count": 3,
     "metadata": {},
     "output_type": "execute_result"
    }
   ],
   "source": [
    "hit"
   ]
  },
  {
   "cell_type": "code",
   "execution_count": 4,
   "metadata": {},
   "outputs": [],
   "source": [
    "#1)What is the biggest salary and lowest salary in this dataset ?\n",
    "max_salary=hit['Salary'].max()\n",
    "min_salary=hit['Salary'].min()"
   ]
  },
  {
   "cell_type": "code",
   "execution_count": 5,
   "metadata": {},
   "outputs": [
    {
     "data": {
      "text/plain": [
       "2460.0"
      ]
     },
     "execution_count": 5,
     "metadata": {},
     "output_type": "execute_result"
    }
   ],
   "source": [
    "max_salary\n"
   ]
  },
  {
   "cell_type": "code",
   "execution_count": 6,
   "metadata": {},
   "outputs": [
    {
     "data": {
      "text/plain": [
       "67.5"
      ]
     },
     "execution_count": 6,
     "metadata": {},
     "output_type": "execute_result"
    }
   ],
   "source": [
    "min_salary"
   ]
  },
  {
   "cell_type": "code",
   "execution_count": 7,
   "metadata": {},
   "outputs": [],
   "source": [
    "#2)Is there any null value ?How many null value that dataset has for evey variable in dataset?Drop the null values\n",
    "hit.isnull().values.any()\n",
    "hit.isnull().sum()\n",
    "hit=hit.dropna()\n"
   ]
  },
  {
   "cell_type": "code",
   "execution_count": 8,
   "metadata": {},
   "outputs": [
    {
     "data": {
      "text/plain": [
       "<matplotlib.axes._subplots.AxesSubplot at 0x23d30be6b48>"
      ]
     },
     "execution_count": 8,
     "metadata": {},
     "output_type": "execute_result"
    },
    {
     "data": {
      "image/png": "[encoded data removed]",
      "text/plain": [
       "<Figure size 432x288 with 1 Axes>"
      ]
     },
     "metadata": {
      "needs_background": "light"
     },
     "output_type": "display_data"
    },
    {
     "data": {
      "image/png": "[encoded data removed]",
      "text/plain": [
       "<Figure size 432x288 with 1 Axes>"
      ]
     },
     "metadata": {
      "needs_background": "light"
     },
     "output_type": "display_data"
    }
   ],
   "source": [
    "#3)Show Salary/Run and Salary/Walks  accordinng to League on Scatter Plot for seeing how walks and runs effects the salary .\n",
    "#In this diagram i want to check that runs or walks effecting the salary.\n",
    "#For some player it is affect in a good way.Some of them no need to so much runs or walks for getting high salary.It is up to player.\n",
    "hit.query('League==\"A\"').plot.scatter(\"Salary\",\"Walks\")\n",
    "hit.query('League==\"N\"').plot.scatter(\"Salary\",\"Runs\")"
   ]
  },
  {
   "cell_type": "code",
   "execution_count": 9,
   "metadata": {},
   "outputs": [
    {
     "data": {
      "image/png": "[encoded data removed]",
      "text/plain": [
       "<Figure size 432x288 with 1 Axes>"
      ]
     },
     "metadata": {
      "needs_background": "light"
     },
     "output_type": "display_data"
    }
   ],
   "source": [
    "#4)Show categorical variables for seeing numbers difference in bar plot by using pandas seaborn library.\n",
    "#In this diagram i want to check that which ligs is wanted in League in NewLeague.As you can see Lig ‘A’ is wanted mor for both.\n",
    "sns.barplot(x=\"League\",y=hit.League.index,data=hit);\n"
   ]
  },
  {
   "cell_type": "code",
   "execution_count": 10,
   "metadata": {},
   "outputs": [
    {
     "data": {
      "image/png": "[encoded data removed]",
      "text/plain": [
       "<Figure size 432x288 with 1 Axes>"
      ]
     },
     "metadata": {
      "needs_background": "light"
     },
     "output_type": "display_data"
    }
   ],
   "source": [
    "sns.barplot(x=\"NewLeague\",y=hit.League.index,data=hit);"
   ]
  },
  {
   "cell_type": "code",
   "execution_count": 11,
   "metadata": {},
   "outputs": [
    {
     "data": {
      "text/plain": [
       "<seaborn.axisgrid.FacetGrid at 0x23d30d22248>"
      ]
     },
     "execution_count": 11,
     "metadata": {},
     "output_type": "execute_result"
    },
    {
     "data": {
      "image/png": "[encoded data removed]",
      "text/plain": [
       "<Figure size 360x360 with 1 Axes>"
      ]
     },
     "metadata": {
      "needs_background": "light"
     },
     "output_type": "display_data"
    }
   ],
   "source": [
    "#5)Show League/Salary and NewLeague/Salary in Cat Plot for seeing how league effcets the salary.\n",
    "#In this diagram i want to check that according to League and NewLeague is salary how raising.As you can see Lig ‘A’ earning more\n",
    "sns.catplot(x=\"League\",y=\"Salary\",data=hit)"
   ]
  },
  {
   "cell_type": "code",
   "execution_count": 12,
   "metadata": {},
   "outputs": [
    {
     "data": {
      "text/plain": [
       "<seaborn.axisgrid.FacetGrid at 0x23d30ddc888>"
      ]
     },
     "execution_count": 12,
     "metadata": {},
     "output_type": "execute_result"
    },
    {
     "data": {
      "image/png": "[encoded data removed]",
      "text/plain": [
       "<Figure size 360x360 with 1 Axes>"
      ]
     },
     "metadata": {
      "needs_background": "light"
     },
     "output_type": "display_data"
    }
   ],
   "source": [
    "sns.catplot(x=\"NewLeague\",y=\"Salary\",data=hit)"
   ]
  },
  {
   "cell_type": "code",
   "execution_count": null,
   "metadata": {},
   "outputs": [],
   "source": []
  },
  {
   "cell_type": "code",
   "execution_count": 13,
   "metadata": {},
   "outputs": [
    {
     "data": {
      "text/html": [
       "<div>\n",
       "<style scoped>\n",
       "    .dataframe tbody tr th:only-of-type {\n",
       "        vertical-align: middle;\n",
       "    }\n",
       "\n",
       "    .dataframe tbody tr th {\n",
       "        vertical-align: top;\n",
       "    }\n",
       "\n",
       "    .dataframe thead th {\n",
       "        text-align: right;\n",
       "    }\n",
       "</style>\n",
       "<table border=\"1\" class=\"dataframe\">\n",
       "  <thead>\n",
       "    <tr style=\"text-align: right;\">\n",
       "      <th></th>\n",
       "      <th>AtBat</th>\n",
       "      <th>Hits</th>\n",
       "      <th>HmRun</th>\n",
       "      <th>Runs</th>\n",
       "      <th>RBI</th>\n",
       "      <th>Walks</th>\n",
       "      <th>Years</th>\n",
       "      <th>CAtBat</th>\n",
       "      <th>CHits</th>\n",
       "      <th>CHmRun</th>\n",
       "      <th>CRuns</th>\n",
       "      <th>CRBI</th>\n",
       "      <th>CWalks</th>\n",
       "      <th>League</th>\n",
       "      <th>Division</th>\n",
       "      <th>PutOuts</th>\n",
       "      <th>Assists</th>\n",
       "      <th>Errors</th>\n",
       "      <th>Salary</th>\n",
       "      <th>NewLeague</th>\n",
       "    </tr>\n",
       "  </thead>\n",
       "  <tbody>\n",
       "    <tr>\n",
       "      <td>236</td>\n",
       "      <td>237</td>\n",
       "      <td>52</td>\n",
       "      <td>0</td>\n",
       "      <td>15</td>\n",
       "      <td>25</td>\n",
       "      <td>30</td>\n",
       "      <td>24</td>\n",
       "      <td>14053</td>\n",
       "      <td>4256</td>\n",
       "      <td>160</td>\n",
       "      <td>2165</td>\n",
       "      <td>1314</td>\n",
       "      <td>1566</td>\n",
       "      <td>N</td>\n",
       "      <td>W</td>\n",
       "      <td>523</td>\n",
       "      <td>43</td>\n",
       "      <td>6</td>\n",
       "      <td>750.000</td>\n",
       "      <td>N</td>\n",
       "    </tr>\n",
       "    <tr>\n",
       "      <td>121</td>\n",
       "      <td>354</td>\n",
       "      <td>77</td>\n",
       "      <td>16</td>\n",
       "      <td>36</td>\n",
       "      <td>55</td>\n",
       "      <td>41</td>\n",
       "      <td>20</td>\n",
       "      <td>8716</td>\n",
       "      <td>2172</td>\n",
       "      <td>384</td>\n",
       "      <td>1172</td>\n",
       "      <td>1267</td>\n",
       "      <td>1057</td>\n",
       "      <td>N</td>\n",
       "      <td>W</td>\n",
       "      <td>83</td>\n",
       "      <td>174</td>\n",
       "      <td>16</td>\n",
       "      <td>200.000</td>\n",
       "      <td>N</td>\n",
       "    </tr>\n",
       "    <tr>\n",
       "      <td>249</td>\n",
       "      <td>419</td>\n",
       "      <td>101</td>\n",
       "      <td>18</td>\n",
       "      <td>65</td>\n",
       "      <td>58</td>\n",
       "      <td>92</td>\n",
       "      <td>20</td>\n",
       "      <td>9528</td>\n",
       "      <td>2510</td>\n",
       "      <td>548</td>\n",
       "      <td>1509</td>\n",
       "      <td>1659</td>\n",
       "      <td>1342</td>\n",
       "      <td>A</td>\n",
       "      <td>W</td>\n",
       "      <td>0</td>\n",
       "      <td>0</td>\n",
       "      <td>0</td>\n",
       "      <td>487.500</td>\n",
       "      <td>A</td>\n",
       "    </tr>\n",
       "    <tr>\n",
       "      <td>306</td>\n",
       "      <td>127</td>\n",
       "      <td>32</td>\n",
       "      <td>4</td>\n",
       "      <td>14</td>\n",
       "      <td>25</td>\n",
       "      <td>12</td>\n",
       "      <td>19</td>\n",
       "      <td>8396</td>\n",
       "      <td>2402</td>\n",
       "      <td>242</td>\n",
       "      <td>1048</td>\n",
       "      <td>1348</td>\n",
       "      <td>819</td>\n",
       "      <td>N</td>\n",
       "      <td>W</td>\n",
       "      <td>167</td>\n",
       "      <td>18</td>\n",
       "      <td>6</td>\n",
       "      <td>500.000</td>\n",
       "      <td>N</td>\n",
       "    </tr>\n",
       "    <tr>\n",
       "      <td>24</td>\n",
       "      <td>629</td>\n",
       "      <td>168</td>\n",
       "      <td>18</td>\n",
       "      <td>73</td>\n",
       "      <td>102</td>\n",
       "      <td>40</td>\n",
       "      <td>18</td>\n",
       "      <td>8424</td>\n",
       "      <td>2464</td>\n",
       "      <td>164</td>\n",
       "      <td>1008</td>\n",
       "      <td>1072</td>\n",
       "      <td>402</td>\n",
       "      <td>A</td>\n",
       "      <td>E</td>\n",
       "      <td>1067</td>\n",
       "      <td>157</td>\n",
       "      <td>14</td>\n",
       "      <td>776.667</td>\n",
       "      <td>A</td>\n",
       "    </tr>\n",
       "    <tr>\n",
       "      <td>73</td>\n",
       "      <td>507</td>\n",
       "      <td>122</td>\n",
       "      <td>29</td>\n",
       "      <td>78</td>\n",
       "      <td>85</td>\n",
       "      <td>91</td>\n",
       "      <td>18</td>\n",
       "      <td>7761</td>\n",
       "      <td>1947</td>\n",
       "      <td>347</td>\n",
       "      <td>1175</td>\n",
       "      <td>1152</td>\n",
       "      <td>1380</td>\n",
       "      <td>A</td>\n",
       "      <td>E</td>\n",
       "      <td>808</td>\n",
       "      <td>108</td>\n",
       "      <td>2</td>\n",
       "      <td>535.000</td>\n",
       "      <td>A</td>\n",
       "    </tr>\n",
       "    <tr>\n",
       "      <td>132</td>\n",
       "      <td>278</td>\n",
       "      <td>70</td>\n",
       "      <td>7</td>\n",
       "      <td>22</td>\n",
       "      <td>37</td>\n",
       "      <td>18</td>\n",
       "      <td>18</td>\n",
       "      <td>7186</td>\n",
       "      <td>2081</td>\n",
       "      <td>190</td>\n",
       "      <td>935</td>\n",
       "      <td>1088</td>\n",
       "      <td>643</td>\n",
       "      <td>A</td>\n",
       "      <td>W</td>\n",
       "      <td>0</td>\n",
       "      <td>0</td>\n",
       "      <td>0</td>\n",
       "      <td>325.000</td>\n",
       "      <td>A</td>\n",
       "    </tr>\n",
       "    <tr>\n",
       "      <td>245</td>\n",
       "      <td>327</td>\n",
       "      <td>68</td>\n",
       "      <td>13</td>\n",
       "      <td>42</td>\n",
       "      <td>29</td>\n",
       "      <td>45</td>\n",
       "      <td>18</td>\n",
       "      <td>3949</td>\n",
       "      <td>939</td>\n",
       "      <td>78</td>\n",
       "      <td>438</td>\n",
       "      <td>380</td>\n",
       "      <td>466</td>\n",
       "      <td>A</td>\n",
       "      <td>E</td>\n",
       "      <td>659</td>\n",
       "      <td>53</td>\n",
       "      <td>7</td>\n",
       "      <td>400.000</td>\n",
       "      <td>A</td>\n",
       "    </tr>\n",
       "    <tr>\n",
       "      <td>278</td>\n",
       "      <td>557</td>\n",
       "      <td>142</td>\n",
       "      <td>21</td>\n",
       "      <td>58</td>\n",
       "      <td>81</td>\n",
       "      <td>23</td>\n",
       "      <td>18</td>\n",
       "      <td>8759</td>\n",
       "      <td>2583</td>\n",
       "      <td>271</td>\n",
       "      <td>1138</td>\n",
       "      <td>1299</td>\n",
       "      <td>478</td>\n",
       "      <td>N</td>\n",
       "      <td>W</td>\n",
       "      <td>1160</td>\n",
       "      <td>53</td>\n",
       "      <td>7</td>\n",
       "      <td>1450.000</td>\n",
       "      <td>N</td>\n",
       "    </tr>\n",
       "    <tr>\n",
       "      <td>50</td>\n",
       "      <td>457</td>\n",
       "      <td>101</td>\n",
       "      <td>14</td>\n",
       "      <td>42</td>\n",
       "      <td>63</td>\n",
       "      <td>22</td>\n",
       "      <td>17</td>\n",
       "      <td>6521</td>\n",
       "      <td>1767</td>\n",
       "      <td>281</td>\n",
       "      <td>1003</td>\n",
       "      <td>977</td>\n",
       "      <td>619</td>\n",
       "      <td>A</td>\n",
       "      <td>W</td>\n",
       "      <td>389</td>\n",
       "      <td>39</td>\n",
       "      <td>4</td>\n",
       "      <td>875.000</td>\n",
       "      <td>A</td>\n",
       "    </tr>\n",
       "  </tbody>\n",
       "</table>\n",
       "</div>"
      ],
      "text/plain": [
       "     AtBat  Hits  HmRun  Runs  RBI  Walks  Years  CAtBat  CHits  CHmRun  \\\n",
       "236    237    52      0    15   25     30     24   14053   4256     160   \n",
       "121    354    77     16    36   55     41     20    8716   2172     384   \n",
       "249    419   101     18    65   58     92     20    9528   2510     548   \n",
       "306    127    32      4    14   25     12     19    8396   2402     242   \n",
       "24     629   168     18    73  102     40     18    8424   2464     164   \n",
       "73     507   122     29    78   85     91     18    7761   1947     347   \n",
       "132    278    70      7    22   37     18     18    7186   2081     190   \n",
       "245    327    68     13    42   29     45     18    3949    939      78   \n",
       "278    557   142     21    58   81     23     18    8759   2583     271   \n",
       "50     457   101     14    42   63     22     17    6521   1767     281   \n",
       "\n",
       "     CRuns  CRBI  CWalks League Division  PutOuts  Assists  Errors    Salary  \\\n",
       "236   2165  1314    1566      N        W      523       43       6   750.000   \n",
       "121   1172  1267    1057      N        W       83      174      16   200.000   \n",
       "249   1509  1659    1342      A        W        0        0       0   487.500   \n",
       "306   1048  1348     819      N        W      167       18       6   500.000   \n",
       "24    1008  1072     402      A        E     1067      157      14   776.667   \n",
       "73    1175  1152    1380      A        E      808      108       2   535.000   \n",
       "132    935  1088     643      A        W        0        0       0   325.000   \n",
       "245    438   380     466      A        E      659       53       7   400.000   \n",
       "278   1138  1299     478      N        W     1160       53       7  1450.000   \n",
       "50    1003   977     619      A        W      389       39       4   875.000   \n",
       "\n",
       "    NewLeague  \n",
       "236         N  \n",
       "121         N  \n",
       "249         A  \n",
       "306         N  \n",
       "24          A  \n",
       "73          A  \n",
       "132         A  \n",
       "245         A  \n",
       "278         N  \n",
       "50          A  "
      ]
     },
     "execution_count": 13,
     "metadata": {},
     "output_type": "execute_result"
    }
   ],
   "source": [
    "#6)Show 10 most veteran players and 10 beginner players.\n",
    "hml=hit.nlargest(10, ['Years']) \n",
    "hml"
   ]
  },
  {
   "cell_type": "code",
   "execution_count": 14,
   "metadata": {},
   "outputs": [
    {
     "data": {
      "text/html": [
       "<div>\n",
       "<style scoped>\n",
       "    .dataframe tbody tr th:only-of-type {\n",
       "        vertical-align: middle;\n",
       "    }\n",
       "\n",
       "    .dataframe tbody tr th {\n",
       "        vertical-align: top;\n",
       "    }\n",
       "\n",
       "    .dataframe thead th {\n",
       "        text-align: right;\n",
       "    }\n",
       "</style>\n",
       "<table border=\"1\" class=\"dataframe\">\n",
       "  <thead>\n",
       "    <tr style=\"text-align: right;\">\n",
       "      <th></th>\n",
       "      <th>AtBat</th>\n",
       "      <th>Hits</th>\n",
       "      <th>HmRun</th>\n",
       "      <th>Runs</th>\n",
       "      <th>RBI</th>\n",
       "      <th>Walks</th>\n",
       "      <th>Years</th>\n",
       "      <th>CAtBat</th>\n",
       "      <th>CHits</th>\n",
       "      <th>CHmRun</th>\n",
       "      <th>CRuns</th>\n",
       "      <th>CRBI</th>\n",
       "      <th>CWalks</th>\n",
       "      <th>League</th>\n",
       "      <th>Division</th>\n",
       "      <th>PutOuts</th>\n",
       "      <th>Assists</th>\n",
       "      <th>Errors</th>\n",
       "      <th>Salary</th>\n",
       "      <th>NewLeague</th>\n",
       "    </tr>\n",
       "  </thead>\n",
       "  <tbody>\n",
       "    <tr>\n",
       "      <td>20</td>\n",
       "      <td>413</td>\n",
       "      <td>92</td>\n",
       "      <td>16</td>\n",
       "      <td>72</td>\n",
       "      <td>48</td>\n",
       "      <td>65</td>\n",
       "      <td>1</td>\n",
       "      <td>413</td>\n",
       "      <td>92</td>\n",
       "      <td>16</td>\n",
       "      <td>72</td>\n",
       "      <td>48</td>\n",
       "      <td>65</td>\n",
       "      <td>N</td>\n",
       "      <td>E</td>\n",
       "      <td>280</td>\n",
       "      <td>9</td>\n",
       "      <td>5</td>\n",
       "      <td>100.0</td>\n",
       "      <td>N</td>\n",
       "    </tr>\n",
       "    <tr>\n",
       "      <td>21</td>\n",
       "      <td>426</td>\n",
       "      <td>109</td>\n",
       "      <td>3</td>\n",
       "      <td>55</td>\n",
       "      <td>43</td>\n",
       "      <td>62</td>\n",
       "      <td>1</td>\n",
       "      <td>426</td>\n",
       "      <td>109</td>\n",
       "      <td>3</td>\n",
       "      <td>55</td>\n",
       "      <td>43</td>\n",
       "      <td>62</td>\n",
       "      <td>A</td>\n",
       "      <td>W</td>\n",
       "      <td>361</td>\n",
       "      <td>22</td>\n",
       "      <td>2</td>\n",
       "      <td>115.0</td>\n",
       "      <td>N</td>\n",
       "    </tr>\n",
       "    <tr>\n",
       "      <td>60</td>\n",
       "      <td>416</td>\n",
       "      <td>113</td>\n",
       "      <td>24</td>\n",
       "      <td>58</td>\n",
       "      <td>69</td>\n",
       "      <td>16</td>\n",
       "      <td>1</td>\n",
       "      <td>416</td>\n",
       "      <td>113</td>\n",
       "      <td>24</td>\n",
       "      <td>58</td>\n",
       "      <td>69</td>\n",
       "      <td>16</td>\n",
       "      <td>A</td>\n",
       "      <td>E</td>\n",
       "      <td>203</td>\n",
       "      <td>70</td>\n",
       "      <td>10</td>\n",
       "      <td>90.0</td>\n",
       "      <td>A</td>\n",
       "    </tr>\n",
       "    <tr>\n",
       "      <td>92</td>\n",
       "      <td>317</td>\n",
       "      <td>78</td>\n",
       "      <td>7</td>\n",
       "      <td>35</td>\n",
       "      <td>35</td>\n",
       "      <td>32</td>\n",
       "      <td>1</td>\n",
       "      <td>317</td>\n",
       "      <td>78</td>\n",
       "      <td>7</td>\n",
       "      <td>35</td>\n",
       "      <td>35</td>\n",
       "      <td>32</td>\n",
       "      <td>A</td>\n",
       "      <td>E</td>\n",
       "      <td>45</td>\n",
       "      <td>122</td>\n",
       "      <td>26</td>\n",
       "      <td>70.0</td>\n",
       "      <td>A</td>\n",
       "    </tr>\n",
       "    <tr>\n",
       "      <td>109</td>\n",
       "      <td>215</td>\n",
       "      <td>51</td>\n",
       "      <td>4</td>\n",
       "      <td>19</td>\n",
       "      <td>18</td>\n",
       "      <td>11</td>\n",
       "      <td>1</td>\n",
       "      <td>215</td>\n",
       "      <td>51</td>\n",
       "      <td>4</td>\n",
       "      <td>19</td>\n",
       "      <td>18</td>\n",
       "      <td>11</td>\n",
       "      <td>A</td>\n",
       "      <td>E</td>\n",
       "      <td>116</td>\n",
       "      <td>5</td>\n",
       "      <td>12</td>\n",
       "      <td>70.0</td>\n",
       "      <td>A</td>\n",
       "    </tr>\n",
       "    <tr>\n",
       "      <td>152</td>\n",
       "      <td>278</td>\n",
       "      <td>86</td>\n",
       "      <td>4</td>\n",
       "      <td>33</td>\n",
       "      <td>38</td>\n",
       "      <td>45</td>\n",
       "      <td>1</td>\n",
       "      <td>278</td>\n",
       "      <td>86</td>\n",
       "      <td>4</td>\n",
       "      <td>33</td>\n",
       "      <td>38</td>\n",
       "      <td>45</td>\n",
       "      <td>N</td>\n",
       "      <td>W</td>\n",
       "      <td>102</td>\n",
       "      <td>4</td>\n",
       "      <td>2</td>\n",
       "      <td>110.0</td>\n",
       "      <td>N</td>\n",
       "    </tr>\n",
       "    <tr>\n",
       "      <td>176</td>\n",
       "      <td>181</td>\n",
       "      <td>58</td>\n",
       "      <td>6</td>\n",
       "      <td>34</td>\n",
       "      <td>23</td>\n",
       "      <td>22</td>\n",
       "      <td>1</td>\n",
       "      <td>181</td>\n",
       "      <td>58</td>\n",
       "      <td>6</td>\n",
       "      <td>34</td>\n",
       "      <td>23</td>\n",
       "      <td>22</td>\n",
       "      <td>N</td>\n",
       "      <td>W</td>\n",
       "      <td>88</td>\n",
       "      <td>0</td>\n",
       "      <td>3</td>\n",
       "      <td>86.5</td>\n",
       "      <td>N</td>\n",
       "    </tr>\n",
       "    <tr>\n",
       "      <td>188</td>\n",
       "      <td>279</td>\n",
       "      <td>64</td>\n",
       "      <td>0</td>\n",
       "      <td>31</td>\n",
       "      <td>26</td>\n",
       "      <td>30</td>\n",
       "      <td>1</td>\n",
       "      <td>279</td>\n",
       "      <td>64</td>\n",
       "      <td>0</td>\n",
       "      <td>31</td>\n",
       "      <td>26</td>\n",
       "      <td>30</td>\n",
       "      <td>N</td>\n",
       "      <td>W</td>\n",
       "      <td>107</td>\n",
       "      <td>205</td>\n",
       "      <td>16</td>\n",
       "      <td>75.0</td>\n",
       "      <td>N</td>\n",
       "    </tr>\n",
       "    <tr>\n",
       "      <td>201</td>\n",
       "      <td>216</td>\n",
       "      <td>54</td>\n",
       "      <td>2</td>\n",
       "      <td>27</td>\n",
       "      <td>25</td>\n",
       "      <td>33</td>\n",
       "      <td>1</td>\n",
       "      <td>216</td>\n",
       "      <td>54</td>\n",
       "      <td>2</td>\n",
       "      <td>27</td>\n",
       "      <td>25</td>\n",
       "      <td>33</td>\n",
       "      <td>N</td>\n",
       "      <td>W</td>\n",
       "      <td>317</td>\n",
       "      <td>36</td>\n",
       "      <td>1</td>\n",
       "      <td>75.0</td>\n",
       "      <td>N</td>\n",
       "    </tr>\n",
       "    <tr>\n",
       "      <td>212</td>\n",
       "      <td>209</td>\n",
       "      <td>54</td>\n",
       "      <td>3</td>\n",
       "      <td>25</td>\n",
       "      <td>14</td>\n",
       "      <td>12</td>\n",
       "      <td>1</td>\n",
       "      <td>209</td>\n",
       "      <td>54</td>\n",
       "      <td>3</td>\n",
       "      <td>25</td>\n",
       "      <td>14</td>\n",
       "      <td>12</td>\n",
       "      <td>A</td>\n",
       "      <td>W</td>\n",
       "      <td>102</td>\n",
       "      <td>6</td>\n",
       "      <td>3</td>\n",
       "      <td>68.0</td>\n",
       "      <td>A</td>\n",
       "    </tr>\n",
       "  </tbody>\n",
       "</table>\n",
       "</div>"
      ],
      "text/plain": [
       "     AtBat  Hits  HmRun  Runs  RBI  Walks  Years  CAtBat  CHits  CHmRun  \\\n",
       "20     413    92     16    72   48     65      1     413     92      16   \n",
       "21     426   109      3    55   43     62      1     426    109       3   \n",
       "60     416   113     24    58   69     16      1     416    113      24   \n",
       "92     317    78      7    35   35     32      1     317     78       7   \n",
       "109    215    51      4    19   18     11      1     215     51       4   \n",
       "152    278    86      4    33   38     45      1     278     86       4   \n",
       "176    181    58      6    34   23     22      1     181     58       6   \n",
       "188    279    64      0    31   26     30      1     279     64       0   \n",
       "201    216    54      2    27   25     33      1     216     54       2   \n",
       "212    209    54      3    25   14     12      1     209     54       3   \n",
       "\n",
       "     CRuns  CRBI  CWalks League Division  PutOuts  Assists  Errors  Salary  \\\n",
       "20      72    48      65      N        E      280        9       5   100.0   \n",
       "21      55    43      62      A        W      361       22       2   115.0   \n",
       "60      58    69      16      A        E      203       70      10    90.0   \n",
       "92      35    35      32      A        E       45      122      26    70.0   \n",
       "109     19    18      11      A        E      116        5      12    70.0   \n",
       "152     33    38      45      N        W      102        4       2   110.0   \n",
       "176     34    23      22      N        W       88        0       3    86.5   \n",
       "188     31    26      30      N        W      107      205      16    75.0   \n",
       "201     27    25      33      N        W      317       36       1    75.0   \n",
       "212     25    14      12      A        W      102        6       3    68.0   \n",
       "\n",
       "    NewLeague  \n",
       "20          N  \n",
       "21          N  \n",
       "60          A  \n",
       "92          A  \n",
       "109         A  \n",
       "152         N  \n",
       "176         N  \n",
       "188         N  \n",
       "201         N  \n",
       "212         A  "
      ]
     },
     "execution_count": 14,
     "metadata": {},
     "output_type": "execute_result"
    }
   ],
   "source": [
    "hmm=hit.nsmallest(10,['Years'])\n",
    "hmm"
   ]
  },
  {
   "cell_type": "code",
   "execution_count": 15,
   "metadata": {},
   "outputs": [],
   "source": [
    "#7)Find the average of top 10 salaries and show the slaries on bar plot"
   ]
  },
  {
   "cell_type": "code",
   "execution_count": 16,
   "metadata": {},
   "outputs": [],
   "source": [
    "top_ten_salary=hit.nlargest(10, ['Salary']) "
   ]
  },
  {
   "cell_type": "code",
   "execution_count": 17,
   "metadata": {},
   "outputs": [
    {
     "data": {
      "text/html": [
       "<div>\n",
       "<style scoped>\n",
       "    .dataframe tbody tr th:only-of-type {\n",
       "        vertical-align: middle;\n",
       "    }\n",
       "\n",
       "    .dataframe tbody tr th {\n",
       "        vertical-align: top;\n",
       "    }\n",
       "\n",
       "    .dataframe thead th {\n",
       "        text-align: right;\n",
       "    }\n",
       "</style>\n",
       "<table border=\"1\" class=\"dataframe\">\n",
       "  <thead>\n",
       "    <tr style=\"text-align: right;\">\n",
       "      <th></th>\n",
       "      <th>AtBat</th>\n",
       "      <th>Hits</th>\n",
       "      <th>HmRun</th>\n",
       "      <th>Runs</th>\n",
       "      <th>RBI</th>\n",
       "      <th>Walks</th>\n",
       "      <th>Years</th>\n",
       "      <th>CAtBat</th>\n",
       "      <th>CHits</th>\n",
       "      <th>CHmRun</th>\n",
       "      <th>CRuns</th>\n",
       "      <th>CRBI</th>\n",
       "      <th>CWalks</th>\n",
       "      <th>League</th>\n",
       "      <th>Division</th>\n",
       "      <th>PutOuts</th>\n",
       "      <th>Assists</th>\n",
       "      <th>Errors</th>\n",
       "      <th>Salary</th>\n",
       "      <th>NewLeague</th>\n",
       "    </tr>\n",
       "  </thead>\n",
       "  <tbody>\n",
       "    <tr>\n",
       "      <td>100</td>\n",
       "      <td>495</td>\n",
       "      <td>151</td>\n",
       "      <td>17</td>\n",
       "      <td>61</td>\n",
       "      <td>84</td>\n",
       "      <td>78</td>\n",
       "      <td>10</td>\n",
       "      <td>5624</td>\n",
       "      <td>1679</td>\n",
       "      <td>275</td>\n",
       "      <td>884</td>\n",
       "      <td>1015</td>\n",
       "      <td>709</td>\n",
       "      <td>A</td>\n",
       "      <td>E</td>\n",
       "      <td>1045</td>\n",
       "      <td>88</td>\n",
       "      <td>13</td>\n",
       "      <td>2460.000</td>\n",
       "      <td>A</td>\n",
       "    </tr>\n",
       "    <tr>\n",
       "      <td>163</td>\n",
       "      <td>618</td>\n",
       "      <td>200</td>\n",
       "      <td>20</td>\n",
       "      <td>98</td>\n",
       "      <td>110</td>\n",
       "      <td>62</td>\n",
       "      <td>13</td>\n",
       "      <td>7127</td>\n",
       "      <td>2163</td>\n",
       "      <td>351</td>\n",
       "      <td>1104</td>\n",
       "      <td>1289</td>\n",
       "      <td>564</td>\n",
       "      <td>A</td>\n",
       "      <td>E</td>\n",
       "      <td>330</td>\n",
       "      <td>16</td>\n",
       "      <td>8</td>\n",
       "      <td>2412.500</td>\n",
       "      <td>A</td>\n",
       "    </tr>\n",
       "    <tr>\n",
       "      <td>217</td>\n",
       "      <td>20</td>\n",
       "      <td>1</td>\n",
       "      <td>0</td>\n",
       "      <td>0</td>\n",
       "      <td>0</td>\n",
       "      <td>0</td>\n",
       "      <td>2</td>\n",
       "      <td>41</td>\n",
       "      <td>9</td>\n",
       "      <td>2</td>\n",
       "      <td>6</td>\n",
       "      <td>7</td>\n",
       "      <td>4</td>\n",
       "      <td>N</td>\n",
       "      <td>E</td>\n",
       "      <td>78</td>\n",
       "      <td>220</td>\n",
       "      <td>6</td>\n",
       "      <td>2127.333</td>\n",
       "      <td>N</td>\n",
       "    </tr>\n",
       "    <tr>\n",
       "      <td>82</td>\n",
       "      <td>677</td>\n",
       "      <td>238</td>\n",
       "      <td>31</td>\n",
       "      <td>117</td>\n",
       "      <td>113</td>\n",
       "      <td>53</td>\n",
       "      <td>5</td>\n",
       "      <td>2223</td>\n",
       "      <td>737</td>\n",
       "      <td>93</td>\n",
       "      <td>349</td>\n",
       "      <td>401</td>\n",
       "      <td>171</td>\n",
       "      <td>A</td>\n",
       "      <td>E</td>\n",
       "      <td>1377</td>\n",
       "      <td>100</td>\n",
       "      <td>6</td>\n",
       "      <td>1975.000</td>\n",
       "      <td>A</td>\n",
       "    </tr>\n",
       "    <tr>\n",
       "      <td>229</td>\n",
       "      <td>514</td>\n",
       "      <td>144</td>\n",
       "      <td>0</td>\n",
       "      <td>67</td>\n",
       "      <td>54</td>\n",
       "      <td>79</td>\n",
       "      <td>9</td>\n",
       "      <td>4739</td>\n",
       "      <td>1169</td>\n",
       "      <td>13</td>\n",
       "      <td>583</td>\n",
       "      <td>374</td>\n",
       "      <td>528</td>\n",
       "      <td>N</td>\n",
       "      <td>E</td>\n",
       "      <td>229</td>\n",
       "      <td>453</td>\n",
       "      <td>15</td>\n",
       "      <td>1940.000</td>\n",
       "      <td>N</td>\n",
       "    </tr>\n",
       "    <tr>\n",
       "      <td>112</td>\n",
       "      <td>490</td>\n",
       "      <td>125</td>\n",
       "      <td>24</td>\n",
       "      <td>81</td>\n",
       "      <td>105</td>\n",
       "      <td>62</td>\n",
       "      <td>13</td>\n",
       "      <td>6063</td>\n",
       "      <td>1646</td>\n",
       "      <td>271</td>\n",
       "      <td>847</td>\n",
       "      <td>999</td>\n",
       "      <td>680</td>\n",
       "      <td>N</td>\n",
       "      <td>E</td>\n",
       "      <td>869</td>\n",
       "      <td>62</td>\n",
       "      <td>8</td>\n",
       "      <td>1925.571</td>\n",
       "      <td>N</td>\n",
       "    </tr>\n",
       "    <tr>\n",
       "      <td>84</td>\n",
       "      <td>614</td>\n",
       "      <td>163</td>\n",
       "      <td>29</td>\n",
       "      <td>89</td>\n",
       "      <td>83</td>\n",
       "      <td>75</td>\n",
       "      <td>11</td>\n",
       "      <td>5017</td>\n",
       "      <td>1388</td>\n",
       "      <td>266</td>\n",
       "      <td>813</td>\n",
       "      <td>822</td>\n",
       "      <td>617</td>\n",
       "      <td>N</td>\n",
       "      <td>W</td>\n",
       "      <td>303</td>\n",
       "      <td>6</td>\n",
       "      <td>6</td>\n",
       "      <td>1900.000</td>\n",
       "      <td>N</td>\n",
       "    </tr>\n",
       "    <tr>\n",
       "      <td>96</td>\n",
       "      <td>565</td>\n",
       "      <td>148</td>\n",
       "      <td>24</td>\n",
       "      <td>90</td>\n",
       "      <td>104</td>\n",
       "      <td>77</td>\n",
       "      <td>14</td>\n",
       "      <td>7287</td>\n",
       "      <td>2083</td>\n",
       "      <td>305</td>\n",
       "      <td>1135</td>\n",
       "      <td>1234</td>\n",
       "      <td>791</td>\n",
       "      <td>A</td>\n",
       "      <td>E</td>\n",
       "      <td>292</td>\n",
       "      <td>9</td>\n",
       "      <td>5</td>\n",
       "      <td>1861.460</td>\n",
       "      <td>A</td>\n",
       "    </tr>\n",
       "    <tr>\n",
       "      <td>179</td>\n",
       "      <td>551</td>\n",
       "      <td>171</td>\n",
       "      <td>13</td>\n",
       "      <td>94</td>\n",
       "      <td>83</td>\n",
       "      <td>94</td>\n",
       "      <td>13</td>\n",
       "      <td>6090</td>\n",
       "      <td>1840</td>\n",
       "      <td>128</td>\n",
       "      <td>969</td>\n",
       "      <td>900</td>\n",
       "      <td>917</td>\n",
       "      <td>N</td>\n",
       "      <td>E</td>\n",
       "      <td>1199</td>\n",
       "      <td>149</td>\n",
       "      <td>5</td>\n",
       "      <td>1800.000</td>\n",
       "      <td>N</td>\n",
       "    </tr>\n",
       "    <tr>\n",
       "      <td>248</td>\n",
       "      <td>608</td>\n",
       "      <td>160</td>\n",
       "      <td>28</td>\n",
       "      <td>130</td>\n",
       "      <td>74</td>\n",
       "      <td>89</td>\n",
       "      <td>8</td>\n",
       "      <td>4071</td>\n",
       "      <td>1182</td>\n",
       "      <td>103</td>\n",
       "      <td>862</td>\n",
       "      <td>417</td>\n",
       "      <td>708</td>\n",
       "      <td>A</td>\n",
       "      <td>E</td>\n",
       "      <td>426</td>\n",
       "      <td>4</td>\n",
       "      <td>6</td>\n",
       "      <td>1670.000</td>\n",
       "      <td>A</td>\n",
       "    </tr>\n",
       "  </tbody>\n",
       "</table>\n",
       "</div>"
      ],
      "text/plain": [
       "     AtBat  Hits  HmRun  Runs  RBI  Walks  Years  CAtBat  CHits  CHmRun  \\\n",
       "100    495   151     17    61   84     78     10    5624   1679     275   \n",
       "163    618   200     20    98  110     62     13    7127   2163     351   \n",
       "217     20     1      0     0    0      0      2      41      9       2   \n",
       "82     677   238     31   117  113     53      5    2223    737      93   \n",
       "229    514   144      0    67   54     79      9    4739   1169      13   \n",
       "112    490   125     24    81  105     62     13    6063   1646     271   \n",
       "84     614   163     29    89   83     75     11    5017   1388     266   \n",
       "96     565   148     24    90  104     77     14    7287   2083     305   \n",
       "179    551   171     13    94   83     94     13    6090   1840     128   \n",
       "248    608   160     28   130   74     89      8    4071   1182     103   \n",
       "\n",
       "     CRuns  CRBI  CWalks League Division  PutOuts  Assists  Errors    Salary  \\\n",
       "100    884  1015     709      A        E     1045       88      13  2460.000   \n",
       "163   1104  1289     564      A        E      330       16       8  2412.500   \n",
       "217      6     7       4      N        E       78      220       6  2127.333   \n",
       "82     349   401     171      A        E     1377      100       6  1975.000   \n",
       "229    583   374     528      N        E      229      453      15  1940.000   \n",
       "112    847   999     680      N        E      869       62       8  1925.571   \n",
       "84     813   822     617      N        W      303        6       6  1900.000   \n",
       "96    1135  1234     791      A        E      292        9       5  1861.460   \n",
       "179    969   900     917      N        E     1199      149       5  1800.000   \n",
       "248    862   417     708      A        E      426        4       6  1670.000   \n",
       "\n",
       "    NewLeague  \n",
       "100         A  \n",
       "163         A  \n",
       "217         N  \n",
       "82          A  \n",
       "229         N  \n",
       "112         N  \n",
       "84          N  \n",
       "96          A  \n",
       "179         N  \n",
       "248         A  "
      ]
     },
     "execution_count": 17,
     "metadata": {},
     "output_type": "execute_result"
    }
   ],
   "source": [
    "top_ten_salary"
   ]
  },
  {
   "cell_type": "code",
   "execution_count": 18,
   "metadata": {},
   "outputs": [
    {
     "data": {
      "text/plain": [
       "2007.1864"
      ]
     },
     "execution_count": 18,
     "metadata": {},
     "output_type": "execute_result"
    }
   ],
   "source": [
    "top_ten_salary['Salary'].mean()"
   ]
  },
  {
   "cell_type": "code",
   "execution_count": 19,
   "metadata": {},
   "outputs": [
    {
     "data": {
      "text/plain": [
       "<matplotlib.axes._subplots.AxesSubplot at 0x23d30d29788>"
      ]
     },
     "execution_count": 19,
     "metadata": {},
     "output_type": "execute_result"
    },
    {
     "data": {
      "image/png": "[encoded data removed]",
      "text/plain": [
       "<Figure size 432x288 with 1 Axes>"
      ]
     },
     "metadata": {
      "needs_background": "light"
     },
     "output_type": "display_data"
    }
   ],
   "source": [
    "sns.distplot(top_ten_salary.Salary,kde=False,color='Purple')"
   ]
  },
  {
   "cell_type": "code",
   "execution_count": 20,
   "metadata": {},
   "outputs": [],
   "source": [
    "#8)Which division is more successful ?What is their assist and hit average?Print on the screen."
   ]
  },
  {
   "cell_type": "code",
   "execution_count": 21,
   "metadata": {},
   "outputs": [],
   "source": [
    "div_w=hit.query('Division==\"W\"')"
   ]
  },
  {
   "cell_type": "code",
   "execution_count": 52,
   "metadata": {},
   "outputs": [
    {
     "data": {
      "text/plain": [
       "104.14925373134328"
      ]
     },
     "execution_count": 52,
     "metadata": {},
     "output_type": "execute_result"
    }
   ],
   "source": [
    "m_W=div_w['Hits'].mean()\n",
    "m_W"
   ]
  },
  {
   "cell_type": "code",
   "execution_count": 50,
   "metadata": {},
   "outputs": [],
   "source": [
    "div_E=hit.query('Division==\"E\"')\n"
   ]
  },
  {
   "cell_type": "code",
   "execution_count": 51,
   "metadata": {},
   "outputs": [],
   "source": [
    "m_E=div_E['Hits'].mean()"
   ]
  },
  {
   "cell_type": "code",
   "execution_count": 25,
   "metadata": {},
   "outputs": [
    {
     "data": {
      "text/plain": [
       "111.65116279069767"
      ]
     },
     "execution_count": 25,
     "metadata": {},
     "output_type": "execute_result"
    }
   ],
   "source": [
    "m_E"
   ]
  },
  {
   "cell_type": "code",
   "execution_count": 26,
   "metadata": {},
   "outputs": [
    {
     "name": "stdout",
     "output_type": "stream",
     "text": [
      "East more succesful\n"
     ]
    }
   ],
   "source": [
    "if m_E>m_W:\n",
    "    print(\"East more succesful\")\n",
    "elif m_W>m_E:\n",
    "    print(\"West more succesful\")"
   ]
  },
  {
   "cell_type": "code",
   "execution_count": 27,
   "metadata": {},
   "outputs": [],
   "source": [
    "#9)Is putouts effects hit numbers of players ?Show with line plot.(Check50 veterans and begginers).After 450 putouts player getting better no matter what."
   ]
  },
  {
   "cell_type": "code",
   "execution_count": 28,
   "metadata": {},
   "outputs": [],
   "source": [
    "fyl=hit.nlargest(50, ['Years']) "
   ]
  },
  {
   "cell_type": "code",
   "execution_count": 29,
   "metadata": {},
   "outputs": [],
   "source": [
    "fys=hit.nsmallest(50, ['Years']) "
   ]
  },
  {
   "cell_type": "code",
   "execution_count": 30,
   "metadata": {},
   "outputs": [
    {
     "data": {
      "text/plain": [
       "<matplotlib.axes._subplots.AxesSubplot at 0x23d304c4708>"
      ]
     },
     "execution_count": 30,
     "metadata": {},
     "output_type": "execute_result"
    },
    {
     "data": {
      "image/png": "[encoded data removed]",
      "text/plain": [
       "<Figure size 432x288 with 1 Axes>"
      ]
     },
     "metadata": {
      "needs_background": "light"
     },
     "output_type": "display_data"
    }
   ],
   "source": [
    "sns.lineplot(x=\"PutOuts\",y=\"Hits\",data=fys)"
   ]
  },
  {
   "cell_type": "code",
   "execution_count": 31,
   "metadata": {},
   "outputs": [
    {
     "data": {
      "text/plain": [
       "<matplotlib.axes._subplots.AxesSubplot at 0x23d30d363c8>"
      ]
     },
     "execution_count": 31,
     "metadata": {},
     "output_type": "execute_result"
    },
    {
     "data": {
      "image/png": "[encoded data removed]",
      "text/plain": [
       "<Figure size 432x288 with 1 Axes>"
      ]
     },
     "metadata": {
      "needs_background": "light"
     },
     "output_type": "display_data"
    }
   ],
   "source": [
    "sns.lineplot(x=\"PutOuts\",y=\"Hits\",data=fyl)"
   ]
  },
  {
   "cell_type": "code",
   "execution_count": 32,
   "metadata": {},
   "outputs": [],
   "source": [
    "#10)Write Polinomial Regression model to predict how hit numbers  changing accoding to run numbers"
   ]
  },
  {
   "cell_type": "code",
   "execution_count": 33,
   "metadata": {},
   "outputs": [],
   "source": [
    "x = hit.iloc[:,3].values.reshape(-1,1)  #Runs\n",
    "y = hit.iloc[:,1].values.reshape(-1,1)  #Hits"
   ]
  },
  {
   "cell_type": "code",
   "execution_count": 34,
   "metadata": {},
   "outputs": [],
   "source": [
    "x_train, x_test, y_train, y_test = train_test_split(x, y, test_size = 0.20, random_state= 42)\n",
    "# sperate dataset %80 train ve %20 test "
   ]
  },
  {
   "cell_type": "code",
   "execution_count": 35,
   "metadata": {},
   "outputs": [
    {
     "data": {
      "text/plain": [
       "LinearRegression(copy_X=True, fit_intercept=True, n_jobs=None, normalize=False)"
      ]
     },
     "execution_count": 35,
     "metadata": {},
     "output_type": "execute_result"
    }
   ],
   "source": [
    "\n",
    "pol_reg = PolynomialFeatures(degree = 8)  # degree:detail \n",
    "\n",
    "level_poly = pol_reg.fit_transform(x_train) #according to pol. reg x assigned\n",
    "\n",
    "lm2 = LinearRegression()  #According to new X i made new reg\n",
    "lm2.fit(level_poly,y_train)\n"
   ]
  },
  {
   "cell_type": "code",
   "execution_count": 36,
   "metadata": {},
   "outputs": [
    {
     "data": {
      "text/plain": [
       "array([[48.82891238]])"
      ]
     },
     "execution_count": 36,
     "metadata": {},
     "output_type": "execute_result"
    }
   ],
   "source": [
    "guess_poly = lm2.predict(pol_reg.fit_transform([[20]]))\n",
    "guess_poly \n",
    "#kosu degeri 20 olan basketcinin basket atma basarisi(hit success)"
   ]
  },
  {
   "cell_type": "code",
   "execution_count": 37,
   "metadata": {},
   "outputs": [
    {
     "data": {
      "text/plain": [
       "array([[119.35432137],\n",
       "       [ 79.77816617],\n",
       "       [139.12679162],\n",
       "       [124.99510398],\n",
       "       [101.16730587],\n",
       "       [ 41.36317723],\n",
       "       [153.84324963],\n",
       "       [168.68603094],\n",
       "       [160.8064138 ],\n",
       "       [158.44935856]])"
      ]
     },
     "execution_count": 37,
     "metadata": {},
     "output_type": "execute_result"
    }
   ],
   "source": [
    "y_head = lm2.predict(pol_reg.fit_transform(x_train))\n",
    "y_head[:10]"
   ]
  },
  {
   "cell_type": "code",
   "execution_count": 38,
   "metadata": {},
   "outputs": [],
   "source": [
    "y_test_1 =np.array(range(0,len(y_train)))"
   ]
  },
  {
   "cell_type": "code",
   "execution_count": 39,
   "metadata": {},
   "outputs": [
    {
     "name": "stdout",
     "output_type": "stream",
     "text": [
      "Consistency of model = 0.8278481234379089\n"
     ]
    },
    {
     "data": {
      "image/png": "[encoded data removed]",
      "text/plain": [
       "<Figure size 432x288 with 1 Axes>"
      ]
     },
     "metadata": {
      "needs_background": "light"
     },
     "output_type": "display_data"
    }
   ],
   "source": [
    "# r2 score:\n",
    "from sklearn.metrics import r2_score\n",
    "r2_val = r2_score(y_train, y_head)\n",
    "print(\"Consistency of model =\", r2_val)\n",
    "\n",
    "plt.scatter(y_test_1,y_train, color=\"violet\")\n",
    "plt.scatter(y_test_1, y_head, color = \"yellow\")\n",
    "plt.xlabel(\"Walks\")\n",
    "plt.ylabel(\"Hits\")\n",
    "plt.show()"
   ]
  },
  {
   "cell_type": "code",
   "execution_count": 40,
   "metadata": {},
   "outputs": [
    {
     "data": {
      "image/png": "[encoded data removed]",
      "text/plain": [
       "<Figure size 432x288 with 1 Axes>"
      ]
     },
     "metadata": {
      "needs_background": "light"
     },
     "output_type": "display_data"
    }
   ],
   "source": [
    "plt.plot(y_test_1,y_train, color=\"pink\")\n",
    "plt.plot(y_test_1, y_head, color = \"yellow\")\n",
    "plt.xlabel(\"Walks\")\n",
    "plt.ylabel(\"Hits\")\n",
    "plt.show()"
   ]
  },
  {
   "cell_type": "code",
   "execution_count": 41,
   "metadata": {},
   "outputs": [],
   "source": [
    "#11)Walks values are effecting is the Hits value?By using decision tree find players hit success."
   ]
  },
  {
   "cell_type": "code",
   "execution_count": 42,
   "metadata": {},
   "outputs": [],
   "source": [
    "import numpy as np \n",
    "import pandas as pd\n",
    "import matplotlib.pyplot as plt\n",
    "from sklearn.linear_model import LinearRegression\n",
    "from sklearn.model_selection import train_test_split, cross_val_score, cross_val_predict\n",
    "from sklearn.tree import DecisionTreeRegressor # DecisionTree"
   ]
  },
  {
   "cell_type": "code",
   "execution_count": 43,
   "metadata": {},
   "outputs": [],
   "source": [
    "import os\n",
    "for dirname, _, filenames in os.walk('/kaggle/input'):\n",
    "    for filename in filenames:\n",
    "        print(os.path.join(dirname, filename))\n",
    "\n"
   ]
  },
  {
   "cell_type": "code",
   "execution_count": 44,
   "metadata": {},
   "outputs": [],
   "source": [
    "x = hit.iloc[:,5].values.reshape(-1,1)    # walking\n",
    "y = hit.iloc[:,1].values.reshape(-1,1)   # hit"
   ]
  },
  {
   "cell_type": "code",
   "execution_count": 45,
   "metadata": {},
   "outputs": [],
   "source": [
    "x_train, x_test, y_train, y_test = train_test_split(x, y, test_size = 0.20, random_state= 42)\n",
    "# dataset %80 train and %20 test "
   ]
  },
  {
   "cell_type": "code",
   "execution_count": 46,
   "metadata": {},
   "outputs": [
    {
     "name": "stdout",
     "output_type": "stream",
     "text": [
      "[133.6]\n"
     ]
    }
   ],
   "source": [
    "# Modelling\n",
    "tree_reg = DecisionTreeRegressor()   #Model\n",
    "tree_reg.fit(x_train,y_train)   #i send x and y to model now my model is ready\n",
    "\n",
    "print(tree_reg.predict([[40]])) # The player which is walk value is 40 ,is success value."
   ]
  },
  {
   "cell_type": "code",
   "execution_count": 47,
   "metadata": {},
   "outputs": [],
   "source": [
    "y_test_1 =np.array(range(0,len(y_train)))"
   ]
  },
  {
   "cell_type": "code",
   "execution_count": 48,
   "metadata": {},
   "outputs": [
    {
     "name": "stdout",
     "output_type": "stream",
     "text": [
      "R2 =  0.8278481234379089\n"
     ]
    },
    {
     "data": {
      "image/png": "[encoded data removed]",
      "text/plain": [
       "<Figure size 432x288 with 1 Axes>"
      ]
     },
     "metadata": {
      "needs_background": "light"
     },
     "output_type": "display_data"
    }
   ],
   "source": [
    "# r2 : \n",
    "r2_value = r2_score(y_train, y_head)\n",
    "print(\"R2 = \",r2_value)\n",
    "\n",
    "plt.plot(y_test_1,y_train, color=\"purple\")\n",
    "plt.plot(y_test_1, y_head, color = \"green\")\n",
    "plt.xlabel(\"Walks\")\n",
    "plt.ylabel(\"Hits\")\n",
    "plt.show()"
   ]
  },
  {
   "cell_type": "code",
   "execution_count": 53,
   "metadata": {},
   "outputs": [
    {
     "data": {
      "text/plain": [
       "<matplotlib.axes._subplots.AxesSubplot at 0x23d32f35248>"
      ]
     },
     "execution_count": 53,
     "metadata": {},
     "output_type": "execute_result"
    },
    {
     "data": {
      "image/png": "[encoded data removed]",
      "text/plain": [
       "<Figure size 432x288 with 2 Axes>"
      ]
     },
     "metadata": {
      "needs_background": "light"
     },
     "output_type": "display_data"
    }
   ],
   "source": [
    "#12)For seeing general table of the dataset show it as heatmap.\n",
    "corr = hit.corr()\n",
    "sns.heatmap(corr, \n",
    "        xticklabels=corr.columns,\n",
    "        yticklabels=corr.columns)"
   ]
  },
  {
   "cell_type": "code",
   "execution_count": null,
   "metadata": {},
   "outputs": [],
   "source": []
  }
 ],
 "metadata": {
  "kernelspec": {
   "display_name": "Python 3",
   "language": "python",
   "name": "python3"
  },
  "language_info": {
   "codemirror_mode": {
    "name": "ipython",
    "version": 3
   },
   "file_extension": ".py",
   "mimetype": "text/x-python",
   "name": "python",
   "nbconvert_exporter": "python",
   "pygments_lexer": "ipython3",
   "version": "3.7.4"
  }
 },
 "nbformat": 4,
 "nbformat_minor": 4
}
